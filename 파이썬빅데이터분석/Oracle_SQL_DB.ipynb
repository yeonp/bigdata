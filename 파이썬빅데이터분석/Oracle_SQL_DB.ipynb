{
 "cells": [
  {
   "cell_type": "markdown",
   "metadata": {},
   "source": [
    "Oracle SQL DB 연동하기"
   ]
  },
  {
   "cell_type": "code",
   "execution_count": 22,
   "metadata": {
    "slideshow": {
     "slide_type": "slide"
    }
   },
   "outputs": [],
   "source": [
    "# pip install cx_Oracle\n",
    "import cx_Oracle\n",
    "import pandas as pd\n",
    "import numpy as np\n",
    "\n",
    "# scott/tiger 접속\n",
    "conn = cx_Oracle.connect('scott/tiger@localhost:1521/orcl')\n",
    "# conn = cx_Oracle.connect('scott/tiger@192.168.43.112:1521/orcl')\n",
    "cursor = conn.cursor()\n",
    "\n",
    "\n",
    "# 테이블 생성\n",
    "cursor.execute(\"\"\"CREATE TABLE EMP_TEMP\n",
    "    AS SELECT * FROM EMP\"\"\")\n",
    "\n",
    "# 데이터 추가하기\n",
    "cursor.execute(\"\"\"INSERT INTO EMP_TEMP\n",
    "        VALUES (7001,'MrPython','ANALYST',7566,\n",
    "        '1980/01/01',1000,50,20 )\"\"\")\n",
    "conn.commit() \n",
    "\n",
    "cursor.execute(\"SELECT * FROM EMP_TEMP\")\n",
    "row = cursor.fetchall()\n",
    "# print(row)\n",
    "\n",
    "# 데이터 프레임 생성\n",
    "header = ['EMPNO','ENAME','JOB','MGR',\n",
    "          'HIREDATE','SAL','COMM','DEPTNO']\n",
    "\n",
    "df = pd.DataFrame(row,columns=header)\n",
    "# print(df)\n",
    "\n",
    "cursor.execute(\"DROP TABLE EMP_TEMP\")\n",
    "conn.commit()    \n",
    "\n",
    "# 프로그램 종료시에는 아래와 같이 DB 접속을 해제시킨다 \n",
    "cursor.close()\n",
    "conn.close()\n",
    "# df\n"
   ]
  },
  {
   "cell_type": "code",
   "execution_count": null,
   "metadata": {},
   "outputs": [],
   "source": [
    "so"
   ]
  }
 ],
 "metadata": {
  "kernelspec": {
   "display_name": "Python 3",
   "language": "python",
   "name": "python3"
  },
  "language_info": {
   "codemirror_mode": {
    "name": "ipython",
    "version": 3
   },
   "file_extension": ".py",
   "mimetype": "text/x-python",
   "name": "python",
   "nbconvert_exporter": "python",
   "pygments_lexer": "ipython3",
   "version": "3.7.3"
  }
 },
 "nbformat": 4,
 "nbformat_minor": 2
}
