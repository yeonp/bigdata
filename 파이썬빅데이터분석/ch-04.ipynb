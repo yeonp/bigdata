{
 "cells": [
  {
   "cell_type": "markdown",
   "metadata": {},
   "source": [
    "# 4장 : 통계학 및 선형 대수"
   ]
  },
  {
   "cell_type": "markdown",
   "metadata": {},
   "source": [
    "# 기본적인 통계학"
   ]
  },
  {
   "cell_type": "code",
   "execution_count": 3,
   "metadata": {},
   "outputs": [
    {
     "name": "stdout",
     "output_type": "stream",
     "text": [
      "The statistical valus for amounts of co2 in atmosphere : \n",
      "\n",
      "Max method :  366.84\n",
      "Max function :  366.84\n",
      "Min method :  313.18\n",
      "Min function :  313.18\n",
      "Mean method :  337.0535256410256\n",
      "Mean function :  337.0535256410256\n",
      "Std method :  14.950221626197369\n",
      "Std function :  14.950221626197369\n",
      "Median :  335.17\n",
      "Score at percentile 50 :  335.17\n"
     ]
    }
   ],
   "source": [
    "%matplotlib inline\n",
    "import numpy as np\n",
    "from scipy.stats import scoreatpercentile\n",
    "import pandas as pd\n",
    "\n",
    "data = pd.read_csv(\"co2.csv\", index_col=0, parse_dates=True)\n",
    "\n",
    "co2 = np.array(data.co2)\n",
    "\n",
    "print(\"The statistical valus for amounts of co2 in atmosphere : \\n\")\n",
    "print(\"Max method : \", co2.max())\n",
    "print(\"Max function : \", np.max(co2))\n",
    "\n",
    "print(\"Min method : \", co2.min())\n",
    "print(\"Min function : \", np.min(co2))\n",
    "\n",
    "print(\"Mean method : \", co2.mean())\n",
    "print(\"Mean function : \", np.mean(co2))\n",
    "\n",
    "print(\"Std method : \", co2.std())\n",
    "print(\"Std function : \", np.std(co2))\n",
    "\n",
    "print(\"Median : \", np.median(co2))\n",
    "print(\"Score at percentile 50 : \", scoreatpercentile(co2, 50))"
   ]
  },
  {
   "cell_type": "markdown",
   "metadata": {},
   "source": [
    "# 선형 대수"
   ]
  },
  {
   "cell_type": "markdown",
   "metadata": {
    "collapsed": true
   },
   "source": [
    "## 역행렬 구하기"
   ]
  },
  {
   "cell_type": "code",
   "execution_count": 4,
   "metadata": {},
   "outputs": [],
   "source": [
    "A = np.mat(\"2 4 6;4 2 6;10 -4 18\")"
   ]
  },
  {
   "cell_type": "code",
   "execution_count": 5,
   "metadata": {},
   "outputs": [
    {
     "name": "stdout",
     "output_type": "stream",
     "text": [
      "A\n",
      " [[ 2  4  6]\n",
      " [ 4  2  6]\n",
      " [10 -4 18]]\n"
     ]
    }
   ],
   "source": [
    "print(\"A\\n\", A)"
   ]
  },
  {
   "cell_type": "code",
   "execution_count": 6,
   "metadata": {},
   "outputs": [
    {
     "name": "stdout",
     "output_type": "stream",
     "text": [
      "inverse of A\n",
      " [[-0.41666667  0.66666667 -0.08333333]\n",
      " [ 0.08333333  0.16666667 -0.08333333]\n",
      " [ 0.25       -0.33333333  0.08333333]]\n"
     ]
    }
   ],
   "source": [
    "inverse = np.linalg.inv(A)\n",
    "print(\"inverse of A\\n\", inverse)"
   ]
  },
  {
   "cell_type": "code",
   "execution_count": 7,
   "metadata": {},
   "outputs": [
    {
     "name": "stdout",
     "output_type": "stream",
     "text": [
      "Check\n",
      " [[ 1.00000000e+00 -2.22044605e-16  0.00000000e+00]\n",
      " [ 5.55111512e-17  1.00000000e+00  0.00000000e+00]\n",
      " [ 3.88578059e-16 -4.44089210e-16  1.00000000e+00]]\n"
     ]
    }
   ],
   "source": [
    "print(\"Check\\n\", A * inverse)"
   ]
  },
  {
   "cell_type": "code",
   "execution_count": 8,
   "metadata": {},
   "outputs": [
    {
     "name": "stdout",
     "output_type": "stream",
     "text": [
      "Error\n",
      " [[ 0.00000000e+00 -2.22044605e-16  0.00000000e+00]\n",
      " [ 5.55111512e-17 -4.44089210e-16  0.00000000e+00]\n",
      " [ 3.88578059e-16 -4.44089210e-16  0.00000000e+00]]\n"
     ]
    }
   ],
   "source": [
    "print(\"Error\\n\", A * inverse - np.eye(3))"
   ]
  },
  {
   "cell_type": "markdown",
   "metadata": {},
   "source": [
    "## 선형 시스템 해석하기"
   ]
  },
  {
   "cell_type": "code",
   "execution_count": 9,
   "metadata": {},
   "outputs": [
    {
     "name": "stdout",
     "output_type": "stream",
     "text": [
      "A\n",
      " [[ 1 -2  1]\n",
      " [ 0  2 -8]\n",
      " [-4  5  9]]\n",
      "b\n",
      " [ 0  8 -9]\n"
     ]
    }
   ],
   "source": [
    "A = np.mat(\"1 -2 1;0 2 -8;-4 5 9\")\n",
    "print(\"A\\n\", A)\n",
    "b = np.array([0, 8, -9])\n",
    "print(\"b\\n\", b)"
   ]
  },
  {
   "cell_type": "code",
   "execution_count": 10,
   "metadata": {},
   "outputs": [
    {
     "name": "stdout",
     "output_type": "stream",
     "text": [
      "Solution [29. 16.  3.]\n"
     ]
    }
   ],
   "source": [
    "x = np.linalg.solve(A, b)\n",
    "print(\"Solution\", x)"
   ]
  },
  {
   "cell_type": "code",
   "execution_count": 11,
   "metadata": {},
   "outputs": [
    {
     "name": "stdout",
     "output_type": "stream",
     "text": [
      "Check\n",
      " [[ 0.  8. -9.]]\n"
     ]
    }
   ],
   "source": [
    "print(\"Check\\n\", np.dot(A , x))"
   ]
  },
  {
   "cell_type": "markdown",
   "metadata": {},
   "source": [
    "## 고유값과 고유벡터 구하기"
   ]
  },
  {
   "cell_type": "code",
   "execution_count": 12,
   "metadata": {},
   "outputs": [
    {
     "name": "stdout",
     "output_type": "stream",
     "text": [
      "A\n",
      " [[ 3 -2]\n",
      " [ 1  0]]\n",
      "Eigenvalues [2. 1.]\n",
      "First tuple of eig [2. 1.]\n",
      "Second tuple of eig\n",
      " [[0.89442719 0.70710678]\n",
      " [0.4472136  0.70710678]]\n",
      "Left [[1.78885438]\n",
      " [0.89442719]]\n",
      "Right [[1.78885438]\n",
      " [0.89442719]]\n",
      "Left [[0.70710678]\n",
      " [0.70710678]]\n",
      "Right [[0.70710678]\n",
      " [0.70710678]]\n"
     ]
    }
   ],
   "source": [
    "A = np.mat(\"3 -2;1 0\")\n",
    "print(\"A\\n\", A)\n",
    "\n",
    "print(\"Eigenvalues\", np.linalg.eigvals(A))\n",
    "\n",
    "eigenvalues, eigenvectors = np.linalg.eig(A)\n",
    "print(\"First tuple of eig\", eigenvalues)\n",
    "print(\"Second tuple of eig\\n\", eigenvectors)\n",
    "\n",
    "for i in range(len(eigenvalues)):\n",
    "   print(\"Left\", np.dot(A, eigenvectors[:,i]))\n",
    "   print(\"Right\", eigenvalues[i] * eigenvectors[:,i])"
   ]
  },
  {
   "cell_type": "markdown",
   "metadata": {},
   "source": [
    "# 무작위 수"
   ]
  },
  {
   "cell_type": "markdown",
   "metadata": {},
   "source": [
    "## 이항 분포"
   ]
  },
  {
   "cell_type": "code",
   "execution_count": 13,
   "metadata": {},
   "outputs": [
    {
     "name": "stdout",
     "output_type": "stream",
     "text": [
      "0 9\n"
     ]
    },
    {
     "data": {
      "image/png": "[encoded data removed]",
      "text/plain": [
       "<Figure size 432x288 with 1 Axes>"
      ]
     },
     "metadata": {
      "needs_background": "light"
     },
     "output_type": "display_data"
    }
   ],
   "source": [
    "import numpy as np\n",
    "from matplotlib.pyplot import plot, show\n",
    "\n",
    "cash = np.zeros(10000)\n",
    "cash[0] = 1000\n",
    "outcome = np.random.binomial(9, 0.5, size=len(cash))\n",
    "\n",
    "for i in range(1, len(cash)):\n",
    "\n",
    "   if outcome[i] < 5:\n",
    "      cash[i] = cash[i - 1] - 1\n",
    "   elif outcome[i] < 10:\n",
    "      cash[i] = cash[i - 1] + 1\n",
    "   else:\n",
    "      raise AssertionError(\"Unexpected outcome \" + outcome)\n",
    "\n",
    "print(outcome.min(), outcome.max())\n",
    "\n",
    "plot(np.arange(len(cash)), cash)\n",
    "show()"
   ]
  },
  {
   "cell_type": "markdown",
   "metadata": {},
   "source": [
    "## 정규 분포"
   ]
  },
  {
   "cell_type": "code",
   "execution_count": 14,
   "metadata": {},
   "outputs": [
    {
     "name": "stderr",
     "output_type": "stream",
     "text": [
      "C:\\ProgramData\\Anaconda3\\lib\\site-packages\\matplotlib\\axes\\_axes.py:6521: MatplotlibDeprecationWarning: \n",
      "The 'normed' kwarg was deprecated in Matplotlib 2.1 and will be removed in 3.1. Use 'density' instead.\n",
      "  alternative=\"'density'\", removal=\"3.1\")\n"
     ]
    },
    {
     "data": {
      "image/png": "[encoded data removed]",
      "text/plain": [
       "<Figure size 432x288 with 1 Axes>"
      ]
     },
     "metadata": {
      "needs_background": "light"
     },
     "output_type": "display_data"
    }
   ],
   "source": [
    "import numpy as np\n",
    "import matplotlib.pyplot as plt\n",
    "\n",
    "N=10000\n",
    "\n",
    "normal_values = np.random.normal(size=N)\n",
    "dummy, bins, dummy = plt.hist(normal_values, int(np.sqrt(N)), normed=True, lw=1)\n",
    "sigma = 1\n",
    "mu = 0\n",
    "plt.plot(bins, 1/(sigma * np.sqrt(2 * np.pi)) * np.exp( - (bins - mu)**2 / (2 * sigma**2) ),lw=2)\n",
    "plt.show()"
   ]
  },
  {
   "cell_type": "code",
   "execution_count": null,
   "metadata": {},
   "outputs": [],
   "source": []
  },
  {
   "cell_type": "markdown",
   "metadata": {},
   "source": [
    "## SciPy로 정규성 검증"
   ]
  },
  {
   "cell_type": "code",
   "execution_count": null,
   "metadata": {},
   "outputs": [],
   "source": []
  },
  {
   "cell_type": "code",
   "execution_count": 44,
   "metadata": {},
   "outputs": [
    {
     "name": "stdout",
     "output_type": "stream",
     "text": [
      "--------------------------------------------------\n",
      "<샤피로 검증>\n",
      "Normal Values Shapiro (0.9976732134819031, 0.5872310996055603)\n",
      "Flu Shapiro (0.9351992011070251, 2.2946666759787607e-15)\n",
      "--------------------------------------------------\n",
      "<앤더슨 달링 검증>\n",
      "Normal Values Anderson AndersonResult(statistic=0.30042426820386936, critical_values=array([0.572, 0.652, 0.782, 0.912, 1.085]), significance_level=array([15. , 10. ,  5. ,  2.5,  1. ]))\n",
      "Flu Anderson AndersonResult(statistic=8.258614154768793, critical_values=array([0.572, 0.652, 0.782, 0.912, 1.085]), significance_level=array([15. , 10. ,  5. ,  2.5,  1. ]))\n",
      "--------------------------------------------------\n",
      "<피어슨 검증>\n",
      "Normal Values normaltest NormaltestResult(statistic=1.3224667912560284, pvalue=0.5162142452876886)\n",
      "Flu normaltest NormaltestResult(statistic=99.64373336356954, pvalue=2.304826411536872e-22)\n",
      "--------------------------------------------------\n"
     ]
    }
   ],
   "source": [
    "import numpy as np\n",
    "from scipy.stats import shapiro\n",
    "from scipy.stats import anderson\n",
    "from scipy.stats import normaltest\n",
    "\n",
    "flutrends = np.loadtxt(\"goog_flutrends.csv\", delimiter=',', usecols=(1,), skiprows=1, converters = {1: lambda s: float(s or 0)}, unpack=True)\n",
    "N = len(flutrends)\n",
    "normal_values = np.random.normal(size=N)\n",
    "zero_values = np.zeros(N)\n",
    "\n",
    "# 샤피로 검증: p-value가 0.05보다 클때 정규성을 띤다\n",
    "#                           통계량(statistic)    p-value\n",
    "# Normal Values Shapiro (0.9977545142173767, 0.6204224228858948)\n",
    "# 표본수(n)  2000(5000) 미만인 데이테 셋에 적합\n",
    "print('-'*50)\n",
    "print('<샤피로 검증>')\n",
    "print(\"Normal Values Shapiro\", shapiro(normal_values))\n",
    "#print(\"Zeroes Shapiro\", shapiro(zero_values))\n",
    "print(\"Flu Shapiro\", shapiro(flutrends))\n",
    "print('-'*50)\n",
    "\n",
    "# 앤더슨 달링 검증 : 통계량이 유의수준에서의 임계값보다\n",
    "#  작은면 정규성을  띤다\n",
    "# 표본수(n)  5만개 이상인 데이테 셋에 가능\n",
    "print('<앤더슨 달링 검증>')\n",
    "# 통계량(statistic), 임계량(critical_values) ,\n",
    "# 유의 수준(significance_levle) --> 표본에 의한 가설의\n",
    "# 검정에서 가설을 잘못하여 기각하는 확률적인 정도\n",
    "# (statistic=0.3171492569597376, \n",
    "#  critical_values=array([0.572, 0.652, 0.782, 0.912, 1.085]), \n",
    "#  significance_level=array([15. , 10. ,  5. ,  2.5,  1. ]))\n",
    "print(\"Normal Values Anderson\", anderson(normal_values))\n",
    "#print(\"Zeroes Anderson\", anderson(zero_values))\n",
    "print(\"Flu Anderson\", anderson(flutrends))\n",
    "print('-'*50)\n",
    "\n",
    "# 피어슨 겁증: 카이제곱 검정, \n",
    "#  표본 크기가 1000 이하 \n",
    "# P값이 0.5보다 작으면 정규성을 띤다\n",
    "print('<피어슨 검증>')\n",
    "print(\"Normal Values normaltest\", normaltest(normal_values))\n",
    "#print(\"Zeroes normaltest\", normaltest(zero_values))\n",
    "print(\"Flu normaltest\", normaltest(flutrends))\n",
    "print('-'*50)"
   ]
  },
  {
   "cell_type": "code",
   "execution_count": 45,
   "metadata": {},
   "outputs": [
    {
     "data": {
      "image/png": "[encoded data removed]",
      "text/plain": [
       "<Figure size 432x288 with 1 Axes>"
      ]
     },
     "metadata": {
      "needs_background": "light"
     },
     "output_type": "display_data"
    }
   ],
   "source": [
    "plt.hist(flutrends)\n",
    "# plt.boxplot(flutrends)\n",
    "plt.show()"
   ]
  },
  {
   "cell_type": "code",
   "execution_count": 73,
   "metadata": {},
   "outputs": [
    {
     "data": {
      "image/png": "[encoded data removed]",
      "text/plain": [
       "<Figure size 432x288 with 1 Axes>"
      ]
     },
     "metadata": {
      "needs_background": "light"
     },
     "output_type": "display_data"
    }
   ],
   "source": [
    "# 표준화\n",
    "from sklearn.preprocessing import StandardScaler\n",
    "flutrends = np.loadtxt(\"goog_flutrends.csv\", \n",
    "                       delimiter=',', usecols=(1,),\n",
    "                       skiprows=1, converters = {1: lambda s: float(s or 0)}, unpack=True)\n",
    "\n",
    "flutrends = flutrends.reshape(-1,1)  # (593,1)\n",
    "data_stand_skl = StandardScaler().fit_transform(flutrends)\n",
    "data_stand_skl_zoomin = data_stand_skl[data_stand_skl < 2.2]\n",
    "plt.hist(data_stand_skl_zoomin)\n",
    "plt.show()"
   ]
  },
  {
   "cell_type": "code",
   "execution_count": 75,
   "metadata": {},
   "outputs": [
    {
     "data": {
      "image/png": "[encoded data removed]",
      "text/plain": [
       "<Figure size 432x288 with 1 Axes>"
      ]
     },
     "metadata": {
      "needs_background": "light"
     },
     "output_type": "display_data"
    },
    {
     "name": "stdout",
     "output_type": "stream",
     "text": [
      "Flu minmax Shapiro (0.9749319553375244, 2.5839113959591486e-08)\n",
      "--------------------------------------------------\n",
      "Flu minmax Anderson AndersonResult(statistic=4.639932086036197, critical_values=array([0.572, 0.651, 0.782, 0.912, 1.084]), significance_level=array([15. , 10. ,  5. ,  2.5,  1. ]))\n",
      "--------------------------------------------------\n",
      "Flu minmax Normal NormaltestResult(statistic=19.622779263970703, pvalue=5.4823609199221525e-05)\n",
      "--------------------------------------------------\n"
     ]
    }
   ],
   "source": [
    "# 정규화\n",
    "from sklearn.preprocessing import MinMaxScaler\n",
    "flutrends = data_stand_skl_zoomin.reshape(-1,1)\n",
    "data_minmax_skl = MinMaxScaler().fit_transform(flutrends)\n",
    "# print('sklearn mimax data:\\n',data_minmax_skl)\n",
    "plt.hist(data_minmax_skl)\n",
    "# plt.boxplot(data_minmax_skl)\n",
    "plt.show()\n",
    "data_minmax_skl = data_minmax_skl.reshape(-1,)\n",
    "\n",
    "print(\"Flu minmax Shapiro\", shapiro(data_minmax_skl))\n",
    "print('-'*50)\n",
    "print(\"Flu minmax Anderson\", anderson(data_minmax_skl))\n",
    "print('-'*50)\n",
    "print(\"Flu minmax Normal\", normaltest(data_minmax_skl))\n",
    "print('-'*50)\n"
   ]
  },
  {
   "cell_type": "markdown",
   "metadata": {},
   "source": [
    "# Numpy 마스킹 배열"
   ]
  },
  {
   "cell_type": "code",
   "execution_count": null,
   "metadata": {
    "scrolled": false
   },
   "outputs": [],
   "source": [
    "import numpy\n",
    "import scipy\n",
    "import matplotlib.pyplot as plt\n",
    "\n",
    "face = scipy.misc.face()\n",
    "\n",
    "random_mask = numpy.random.randint(0, 2, size=face.shape)\n",
    "\n",
    "plt.subplot(221)\n",
    "plt.title(\"Original\")\n",
    "plt.imshow(face)\n",
    "plt.axis('off')\n",
    "\n",
    "masked_array = numpy.ma.array(face, mask=random_mask)\n",
    "\n",
    "plt.subplot(222)\n",
    "plt.title(\"Masked\")\n",
    "plt.imshow(masked_array)\n",
    "plt.axis('off')\n",
    "\n",
    "plt.subplot(223)\n",
    "plt.title(\"Log\")\n",
    "plt.imshow(numpy.ma.log(face).astype(\"float32\"))\n",
    "plt.axis('off')\n",
    "\n",
    "\n",
    "plt.subplot(224)\n",
    "plt.title(\"Log Masked\")\n",
    "plt.imshow(numpy.ma.log(masked_array).astype(\"float32\"))\n",
    "plt.axis('off')\n",
    "\n",
    "plt.show()"
   ]
  },
  {
   "cell_type": "markdown",
   "metadata": {},
   "source": [
    "# 음수와 극단적인 값 제거하기"
   ]
  },
  {
   "cell_type": "code",
   "execution_count": null,
   "metadata": {},
   "outputs": [],
   "source": [
    "import numpy as np\n",
    "from datetime import date\n",
    "import sys\n",
    "import matplotlib.pyplot as plt\n",
    "\n",
    "salary = np.loadtxt(\"MLB2008.csv\", delimiter=',', usecols=(1,), skiprows=1, unpack=True)\n",
    "triples = np.arange(0, len(salary), 3)\n",
    "print(\"Triples\", triples[:10], \"...\")\n",
    "\n",
    "signs = np.ones(len(salary))\n",
    "print(\"Signs\", signs[:10], \"...\")\n",
    "\n",
    "signs[triples] = -1\n",
    "print(\"Signs\", signs[:10], \"...\")\n",
    "\n",
    "ma_log = np.ma.log(salary * signs)\n",
    "print(\"Masked logs\", ma_log[:10], \"...\")\n",
    "\n",
    "dev = salary.std()\n",
    "avg = salary.mean()\n",
    "inside = np.ma.masked_outside(salary, avg - dev, avg + dev)\n",
    "print(\"Inside\", inside[:10], \"...\")\n",
    "\n",
    "plt.subplot(311)\n",
    "plt.title(\"Original\")\n",
    "plt.plot(salary)\n",
    "\n",
    "plt.subplot(312)\n",
    "plt.title(\"Log Masked\")\n",
    "plt.plot(np.exp(ma_log))\n",
    "\n",
    "plt.subplot(313)\n",
    "plt.title(\"Not Extreme\")\n",
    "plt.plot(inside)\n",
    "\n",
    "plt.subplots_adjust(hspace=.9)\n",
    "\n",
    "plt.show()"
   ]
  },
  {
   "cell_type": "code",
   "execution_count": null,
   "metadata": {
    "collapsed": true
   },
   "outputs": [],
   "source": []
  }
 ],
 "metadata": {
  "kernelspec": {
   "display_name": "Python 3",
   "language": "python",
   "name": "python3"
  },
  "language_info": {
   "codemirror_mode": {
    "name": "ipython",
    "version": 3
   },
   "file_extension": ".py",
   "mimetype": "text/x-python",
   "name": "python",
   "nbconvert_exporter": "python",
   "pygments_lexer": "ipython3",
   "version": "3.7.3"
  }
 },
 "nbformat": 4,
 "nbformat_minor": 1
}
