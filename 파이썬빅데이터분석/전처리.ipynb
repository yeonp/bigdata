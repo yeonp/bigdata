{
 "cells": [
  {
   "cell_type": "markdown",
   "metadata": {},
   "source": [
    "## 전처리(Preprocessing)"
   ]
  },
  {
   "cell_type": "markdown",
   "metadata": {},
   "source": [
    "(1) 표준화(Standardization)\n",
    " : 데이터가 평균으로 부터 얼마나 떨어져 있는지 나타내는 \n",
    "   값으로, 특정 범위를 벗어난 데이터는 outlier(이상치)로\n",
    "   간주하여 제거한다\n",
    "   \n",
    "   StandardScaler 사용\n",
    "   Z = (X - mean())/std()\n",
    " \n",
    "(2) 정규화(Normalization) : 데이터의 범위를 일치시키거나\n",
    "  분포를 유사하게 만들어 주는 기능\n",
    "  데이터 범위를 0~1로 변환\n",
    "   \n",
    "   MinMaxSclaer사용\n",
    "   Z = (X - min())/(max() - min())\n",
    "   \n",
    "### 데이터 분석 절차   \n",
    "데이터 표준화를 통해 outlier를 제거하고, \n",
    "그 다음 데이터 정규화를 하여 상대적 크기의 영향력을 줄인 다음 분석을 시작한다"
   ]
  },
  {
   "cell_type": "code",
   "execution_count": 1,
   "metadata": {},
   "outputs": [],
   "source": [
    "import numpy as np\n",
    "import matplotlib.pyplot as plt\n",
    "import pandas as pd"
   ]
  },
  {
   "cell_type": "code",
   "execution_count": 24,
   "metadata": {},
   "outputs": [
    {
     "name": "stdout",
     "output_type": "stream",
     "text": [
      "raw data:\n",
      " [[644 353 896 357]\n",
      " [259  56 358 995]\n",
      " [938 151 397 188]]\n",
      "numpy standardized data:\n",
      " [[ 0.10910126  1.34307794  1.41122269 -0.44987021]\n",
      " [-1.2756455  -1.05508327 -0.78522227  1.38606068]\n",
      " [ 1.16654424 -0.28799467 -0.62600042 -0.93619047]]\n"
     ]
    }
   ],
   "source": [
    "# 표준화: StandardScaler\n",
    "\n",
    "# (1) Numpy를 이용한 표준화 \n",
    "# Z = (X - mean())/std()\n",
    "\n",
    "data = np.random.randint(1000,size=(3,4))  # 0~11까지 정수\n",
    "print('raw data:\\n',data)\n",
    "data_stand_np = (data - np.mean(data,axis=0))/np.std(data,axis=0)\n",
    "print('numpy standardized data:\\n',data_stand_np)"
   ]
  },
  {
   "cell_type": "code",
   "execution_count": 25,
   "metadata": {},
   "outputs": [
    {
     "name": "stdout",
     "output_type": "stream",
     "text": [
      "scipy standardized data:\n",
      " [[ 0.10910126  1.34307794  1.41122269 -0.44987021]\n",
      " [-1.2756455  -1.05508327 -0.78522227  1.38606068]\n",
      " [ 1.16654424 -0.28799467 -0.62600042 -0.93619047]]\n"
     ]
    }
   ],
   "source": [
    "# (2) scipy.stats를 이용한 표준화 : zscore()\n",
    "import scipy.stats as ss\n",
    "data_stand_ss = ss.zscore(data)\n",
    "print('scipy standardized data:\\n',data_stand_ss)"
   ]
  },
  {
   "cell_type": "code",
   "execution_count": 26,
   "metadata": {},
   "outputs": [
    {
     "name": "stdout",
     "output_type": "stream",
     "text": [
      "sklearn standardized data:\n",
      " [[ 0.10910126  1.34307794  1.41122269 -0.44987021]\n",
      " [-1.2756455  -1.05508327 -0.78522227  1.38606068]\n",
      " [ 1.16654424 -0.28799467 -0.62600042 -0.93619047]]\n"
     ]
    },
    {
     "name": "stderr",
     "output_type": "stream",
     "text": [
      "C:\\ProgramData\\Anaconda3\\lib\\site-packages\\sklearn\\utils\\validation.py:595: DataConversionWarning: Data with input dtype int32 was converted to float64 by StandardScaler.\n",
      "  warnings.warn(msg, DataConversionWarning)\n",
      "C:\\ProgramData\\Anaconda3\\lib\\site-packages\\sklearn\\utils\\validation.py:595: DataConversionWarning: Data with input dtype int32 was converted to float64 by StandardScaler.\n",
      "  warnings.warn(msg, DataConversionWarning)\n"
     ]
    }
   ],
   "source": [
    "# (3) sklearn.preprocessong 를 이용한 표준화\n",
    "# StandardScaler().fit_transform()\n",
    "from sklearn.preprocessing import StandardScaler\n",
    "data_stand_skl = StandardScaler().fit_transform(data)\n",
    "print('sklearn standardized data:\\n',data_stand_skl)"
   ]
  },
  {
   "cell_type": "code",
   "execution_count": 34,
   "metadata": {},
   "outputs": [
    {
     "name": "stdout",
     "output_type": "stream",
     "text": [
      "raw data:\n",
      " [[644 353 896 357]\n",
      " [259  56 358 995]\n",
      " [938 151 397 188]]\n",
      "numpy minmax data:\n",
      " [[0.56701031 1.         1.         0.2094176 ]\n",
      " [0.         0.         0.         1.        ]\n",
      " [1.         0.31986532 0.07249071 0.        ]]\n"
     ]
    }
   ],
   "source": [
    "# 정규화 : MinMaxSclaer, 범위는 0~1 \n",
    "# (1) Numpy를 이용한 정규화 \n",
    "# Z = (X - min())/(max() - min())\n",
    "data_minmax_np = (data - np.min(data,axis=0))/ \\\n",
    "  (np.max(data,axis=0) - np.min(data,axis=0))\n",
    "print('raw data:\\n',data)\n",
    "print('numpy minmax data:\\n',data_minmax_np)"
   ]
  },
  {
   "cell_type": "code",
   "execution_count": 38,
   "metadata": {},
   "outputs": [
    {
     "name": "stdout",
     "output_type": "stream",
     "text": [
      "sklearn mimax data:\n",
      " [[0.56701031 1.         1.         0.2094176 ]\n",
      " [0.         0.         0.         1.        ]\n",
      " [1.         0.31986532 0.07249071 0.        ]]\n"
     ]
    },
    {
     "name": "stderr",
     "output_type": "stream",
     "text": [
      "C:\\ProgramData\\Anaconda3\\lib\\site-packages\\sklearn\\utils\\validation.py:595: DataConversionWarning: Data with input dtype int32 was converted to float64 by MinMaxScaler.\n",
      "  warnings.warn(msg, DataConversionWarning)\n"
     ]
    }
   ],
   "source": [
    "# (2) sklearn.preprocessing을 이용한 정규화\n",
    "#  MinMaxScaler().fit_transform()\n",
    "from sklearn.preprocessing import MinMaxScaler\n",
    "data_minmax_skl = MinMaxScaler().fit_transform(data)\n",
    "print('sklearn mimax data:\\n',data_minmax_skl)"
   ]
  },
  {
   "cell_type": "code",
   "execution_count": 60,
   "metadata": {},
   "outputs": [
    {
     "data": {
      "image/png": "[encoded data removed]",
      "text/plain": [
       "<Figure size 432x288 with 1 Axes>"
      ]
     },
     "metadata": {
      "needs_background": "light"
     },
     "output_type": "display_data"
    }
   ],
   "source": [
    "# 이상치(outlier)를 제거하여 표준화하기\n",
    "\n",
    "np.random.seed(10)\n",
    "data = np.random.randn(100) # 정규분포 ,데이터 100개\n",
    "print('raw data:\\n',data)\n",
    "plt.hist(data)\n",
    "plt.show()  # 정규성이 있다"
   ]
  },
  {
   "cell_type": "code",
   "execution_count": 61,
   "metadata": {},
   "outputs": [
    {
     "data": {
      "image/png": "[encoded data removed]",
      "text/plain": [
       "<Figure size 432x288 with 1 Axes>"
      ]
     },
     "metadata": {
      "needs_background": "light"
     },
     "output_type": "display_data"
    }
   ],
   "source": [
    "data[98:100] = 100  # 이상치 추가\n",
    "print('insert outlier data:\\n',data)\n",
    "plt.hist(data)\n",
    "plt.show()  # 정규성이 없다"
   ]
  },
  {
   "cell_type": "code",
   "execution_count": 62,
   "metadata": {},
   "outputs": [
    {
     "data": {
      "image/png": "[encoded data removed]",
      "text/plain": [
       "<Figure size 432x288 with 1 Axes>"
      ]
     },
     "metadata": {
      "needs_background": "light"
     },
     "output_type": "display_data"
    }
   ],
   "source": [
    "# numpy 사용\n",
    "data_stand_np = (data - np.mean(data,axis=0))/ \\\n",
    "                 np.std(data,axis=0)\n",
    "print('numpy standardized data:\\n',data_stand_np)\n",
    "# [..100 100] --> [...6.98416665  6.98416665]\n",
    "plt.hist(data_stand_np)\n",
    "plt.show()"
   ]
  },
  {
   "cell_type": "code",
   "execution_count": 63,
   "metadata": {
    "scrolled": true
   },
   "outputs": [
    {
     "data": {
      "image/png": "[encoded data removed]",
      "text/plain": [
       "<Figure size 432x288 with 1 Axes>"
      ]
     },
     "metadata": {
      "needs_background": "light"
     },
     "output_type": "display_data"
    }
   ],
   "source": [
    "# zoom-in\n",
    "data_stand_np_zoomin = data_stand_np[data_stand_np < 5 ] \n",
    "print('zoomin data:\\n',data_stand_np_zoomin)\n",
    "plt.hist(data_stand_np_zoomin)\n",
    "plt.show()"
   ]
  },
  {
   "cell_type": "code",
   "execution_count": 64,
   "metadata": {
    "scrolled": true
   },
   "outputs": [
    {
     "data": {
      "image/png": "[encoded data removed]",
      "text/plain": [
       "<Figure size 432x288 with 1 Axes>"
      ]
     },
     "metadata": {
      "needs_background": "light"
     },
     "output_type": "display_data"
    }
   ],
   "source": [
    "# scikit-learn 사용\n",
    "data.shape  # (100,)\n",
    "data = data.reshape(-1,1) # 1차원 배열을 2차원으로 변경\n",
    "data.shape  # (100, 1)\n",
    "data_stand_skl = StandardScaler().fit_transform(data)\n",
    "# print(data_stand_skl)\n",
    "data_stand_skl_zoomin = data_stand_skl[data_stand_skl < 5]\n",
    "print('skl zoomin:\\n',data_stand_skl_zoomin)\n",
    "plt.hist(data_stand_skl_zoomin)\n",
    "plt.show()"
   ]
  },
  {
   "cell_type": "code",
   "execution_count": null,
   "metadata": {},
   "outputs": [],
   "source": []
  }
 ],
 "metadata": {
  "kernelspec": {
   "display_name": "Python 3",
   "language": "python",
   "name": "python3"
  },
  "language_info": {
   "codemirror_mode": {
    "name": "ipython",
    "version": 3
   },
   "file_extension": ".py",
   "mimetype": "text/x-python",
   "name": "python",
   "nbconvert_exporter": "python",
   "pygments_lexer": "ipython3",
   "version": "3.7.3"
  }
 },
 "nbformat": 4,
 "nbformat_minor": 2
}
